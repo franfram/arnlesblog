{
 "cells": [
  {
   "cell_type": "markdown",
   "metadata": {},
   "source": [
    "read\n",
    "https://napptive.com/blog/kubernetes-for-data-science/\n",
    "\n",
    "https://medium.com/napptive/kubernetes-for-data-science-a45e09eb9504\n",
    "\n",
    "https://domino.ai/blog/why-kubernetes-is-great-for-data-science-workloads\n",
    "\n"
   ]
  }
 ],
 "metadata": {
  "language_info": {
   "name": "python"
  },
  "orig_nbformat": 4
 },
 "nbformat": 4,
 "nbformat_minor": 2
}
