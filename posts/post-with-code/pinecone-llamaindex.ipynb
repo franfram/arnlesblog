{
 "cells": [
  {
   "cell_type": "raw",
   "metadata": {},
   "source": [
    "---\n",
    "title: \"How to retrieve your index from Pinecone using Llama Index\"\n",
    "author: \"Francis Felici\"\n",
    "date: \"I dunno\"\n",
    "format:\n",
    "    html:\n",
    "        code-fold: true\n",
    "---"
   ]
  },
  {
   "attachments": {},
   "cell_type": "markdown",
   "metadata": {},
   "source": [
    "This post will showcase how to retrieve an already created vectorstore from [Pinecone]() using [Llama-index]()"
   ]
  },
  {
   "cell_type": "raw",
   "metadata": {},
   "source": []
  }
 ],
 "metadata": {
  "language_info": {
   "name": "python"
  },
  "orig_nbformat": 4
 },
 "nbformat": 4,
 "nbformat_minor": 2
}
