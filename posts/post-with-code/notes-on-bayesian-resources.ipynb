{
 "cells": [
  {
   "cell_type": "markdown",
   "metadata": {},
   "source": [
    "\n",
    "\n",
    "... on resources for learning Bayesian modeling: \n",
    "\n",
    "The (actionable) TL;DR is this:\n",
    "Go for Betancourt's writings (first this one, then this one). Read the rest of Betancourt's writings as you need them (e.g., when you need the more fundamental theory, read X section, when you need more applied knowledge read Y section)\n",
    "\n",
    "Today I talked about 3 different sources and what they provide. Those 3 are: \n",
    "\n",
    "1. Michael Betancourt: Lots of great theory on bayesian modeling, \"\"both\"\" the mathematical side, the computational side, the epistemological side, and the ... side. \n",
    "\n",
    "2. Gelman et al has all the explanation of all the theorems that you need, and things like information criterion and stuff like that\n",
    "3. McElreath is the most approachable one, and has information that you are unlikely to get in other textbooks (such as useful information theory topics). McElreath book was originally written in R and STAN but it has been ported to python/julia and other frameworks like PyMC. \n",
    "\n",
    "MAYBE DELETE THIS IN THE EMAIL BUT KEEP IT IN YOUR BLOG 4. Cameron Davidson-Pilon. Probabilistic programming and Bayesian methods for hackers. Haven't read it but some say its good and it's \"hacker\" approach might be good for some\n",
    "\n",
    "\n",
    "My personal recommendation is to just learn from Michael Betancourt, and have Gelman's book to check a theorem when you need it. \n",
    "The good thing about McElreath's book is tThat is very accessible, since it's mainly written for social scientists, but it also goes very deep when you need it. It also has detailed information on some topics that I haven't seen in other bayesian textbooks, such as the Entropy maximizing distributions (which is unlikely to learn outside an Information Theory book)????? You can also check the Rethinking boxes, \n",
    "\n",
    "Good paper on Causal Theory and Machine Learning https://arxiv.org/pdf/2102.11107.pdf\n",
    "You can find both McElreath and Gelman's book online for free on their websites: \n",
    "\n",
    "Causal theory: The book of why is good, it's entertaining and compelling, but it sells causal theory a bit too much. There's also the textbook that they use for the course that they teach at university, called X. \n",
    "\n",
    "Great Blogs: Austin Rochford, stan blog, pymc blog, gelman blog. \n",
    "\n",
    "\n",
    "\n",
    "\n",
    "... he also has a great podcast on modeling in general (although you will have to pay 2 dollars to become a patreon)"
   ]
  }
 ],
 "metadata": {
  "language_info": {
   "name": "python"
  },
  "orig_nbformat": 4
 },
 "nbformat": 4,
 "nbformat_minor": 2
}
