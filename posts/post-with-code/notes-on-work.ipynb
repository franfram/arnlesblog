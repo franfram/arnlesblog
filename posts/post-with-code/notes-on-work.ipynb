{
 "cells": [
  {
   "cell_type": "markdown",
   "metadata": {},
   "source": [
    "being pragmatically smart is better (and cooler?) than doing something overly \n",
    "complicated (maybe just to show how \"smart\" you are). \n",
    "Same as how being extremely efficient is better (and cooler) than being an overworked zombie. \n",
    "Does both of these things (being pragmatically smart and efficient) arise from being constrained?\n",
    "(i.e., resource constrained in the former and time constrained in the latter). "
   ]
  },
  {
   "cell_type": "code",
   "execution_count": null,
   "metadata": {
    "vscode": {
     "languageId": "plaintext"
    }
   },
   "outputs": [],
   "source": []
  }
 ],
 "metadata": {
  "language_info": {
   "name": "python"
  },
  "orig_nbformat": 4
 },
 "nbformat": 4,
 "nbformat_minor": 2
}
