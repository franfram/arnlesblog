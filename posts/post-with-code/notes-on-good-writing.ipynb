{
 "cells": [
  {
   "cell_type": "markdown",
   "metadata": {},
   "source": [
    "https://www.studocu.com/en-us/document/studocu-university/studocu-summary-library-en/style-lessons-in-clarity-and-grace-style-big-collection-compiled-symphony-no-2/1041300\n",
    "https://thork.people.uic.edu/fair/StyleNotes.pdf\n",
    "\n",
    "http://stewiewrites.com/13-writing-lessons-from-style-toward-clarity-and-grace/\n",
    "https://grammarteaching.wordpress.com/2012/04/13/review-of-style-lessons-in-clarity-and-grace-by-joseph-williams/\n",
    "\n"
   ]
  },
  {
   "cell_type": "code",
   "execution_count": null,
   "metadata": {},
   "outputs": [],
   "source": []
  },
  {
   "cell_type": "code",
   "execution_count": null,
   "metadata": {},
   "outputs": [],
   "source": []
  },
  {
   "cell_type": "code",
   "execution_count": null,
   "metadata": {},
   "outputs": [],
   "source": []
  },
  {
   "cell_type": "code",
   "execution_count": null,
   "metadata": {},
   "outputs": [],
   "source": []
  }
 ],
 "metadata": {
  "language_info": {
   "name": "python"
  },
  "orig_nbformat": 4
 },
 "nbformat": 4,
 "nbformat_minor": 2
}
