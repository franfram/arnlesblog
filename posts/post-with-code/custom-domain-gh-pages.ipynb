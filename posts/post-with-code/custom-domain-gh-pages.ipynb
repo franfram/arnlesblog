{
 "cells": [
  {
   "cell_type": "raw",
   "metadata": {},
   "source": [
    "---\n",
    "title: \"How to use a custom domain for your github pages\"\n",
    "author: \"Francis Felici\"\n",
    "date: \"I dunno\"\n",
    "format:\n",
    "    html:\n",
    "        code-fold: true\n",
    "---"
   ]
  },
  {
   "attachments": {},
   "cell_type": "markdown",
   "metadata": {},
   "source": [
    "NOTE \n",
    "    This tutorial only works if your custom domain is of the following types: `www.example.com`, `blog.example.com`, or `example.com` \n"
   ]
  },
  {
   "attachments": {},
   "cell_type": "markdown",
   "metadata": {},
   "source": [
    "\n",
    "This is a short tutorial on how to host your personal blog in your own custom domain instead of in github pages. This post will assume that:  \n",
    "    - You already have your blog on github pages (you can check how to do so with [Quarto](https://quarto.org/) [Here](https://quarto.org/docs/websites/website-blog.html))\n",
    "    - You already bought a custom domain (if you haven't, bought mine [Here](https://click.com.ar/) but there's probably a better one for your country), including hosting for the custom domain\n",
    "\n",
    "\n",
    "Once you have your blog up n running in github pages, your blog will be hosted in an adress with the following format: https://<github-user>.github.io/<repo-with-blog>/\n",
    "What we want to achieve is that the adress for your blog is in something like: https://thisismyblog.com\n",
    "\n",
    "Github has documentation on how to host your github pages in a custom domain, you can find it [HERE](https://docs.github.com/en/pages/configuring-a-custom-domain-for-your-github-pages-site)\n",
    "\n",
    "Long story short, you need the following things from your domain provider: \n",
    "    - `CNAME` (or Canonical Name) which basically links one domain (your github pages) with another domain (your github pages). If your custom domain is `www.myblog.com`, you need to create a `CNAME` record that points your custom domain to `<github-user>.github.io` (Note that you have to exclude the repository name that contains your blog). You will have to ask for your domain provider about how to create this file. Once the `CNAME` file is created\n",
    "\n",
    "Once you created a `CNAME` with your domain provided, open your terminal (if on mac or linux) or your Git Bash (if on windows) and run the following command: `dig www.myblog.com +nostats +nocomments +nocmd`, \n",
    "and if the `CNAME` was created correctly, you should see something like this: \n",
    "\n",
    "```\n",
    "    $ dig www.myblog.com +nostats +nocomments +nocmd\n",
    "    > ;www.myblog.com.                    IN      A\n",
    "    > www.myblog.com.             3592    IN      CNAME   YOUR-USERNAME.github.io.\n",
    "    > YOUR-USERNAME.github.io.      43192   IN      CNAME   GITHUB-PAGES-SERVER .\n",
    "    > GITHUB-PAGES-SERVER .         22      IN      A       192.0.2.1\n",
    "\n",
    "```\n"
   ]
  },
  {
   "attachments": {},
   "cell_type": "markdown",
   "metadata": {},
   "source": [
    "https://docs.github.com/en/pages/configuring-a-custom-domain-for-your-github-pages-site/managing-a-custom-domain-for-your-github-pages-site#configuring-a-subdomain\n"
   ]
  }
 ],
 "metadata": {
  "language_info": {
   "name": "python"
  },
  "orig_nbformat": 4
 },
 "nbformat": 4,
 "nbformat_minor": 2
}
