{
 "cells": [
  {
   "cell_type": "markdown",
   "metadata": {},
   "source": [
    "https://www.youtube.com/watch?v=s2mYsPWzLjg\n",
    "\n",
    "\n",
    "https://www.youtube.com/watch?v=s2mYsPWzLjg\n",
    "\n",
    "https://www.youtube.com/watch?v=6WdTxK_V9Qo\n",
    "\n",
    "\n",
    "\n",
    "https://www.geeksforgeeks.org/top-10-algorithms-in-interview-questions/\n",
    "\n",
    "\n"
   ]
  }
 ],
 "metadata": {
  "language_info": {
   "name": "python"
  },
  "orig_nbformat": 4
 },
 "nbformat": 4,
 "nbformat_minor": 2
}
