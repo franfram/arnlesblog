{
 "cells": [
  {
   "cell_type": "markdown",
   "metadata": {},
   "source": [
    "watch \n",
    "https://www.youtube.com/watch?v=8wysIxzqgPI&t=116s\n",
    "https://www.youtube.com/watch?v=xF554Tlzo-c\n",
    "\n"
   ]
  },
  {
   "cell_type": "markdown",
   "metadata": {},
   "source": [
    "roadmap\n",
    "\n",
    "https://neetcode.io/\n"
   ]
  }
 ],
 "metadata": {
  "language_info": {
   "name": "python"
  },
  "orig_nbformat": 4
 },
 "nbformat": 4,
 "nbformat_minor": 2
}
