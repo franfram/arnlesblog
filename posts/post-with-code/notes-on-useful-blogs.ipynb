{
 "cells": [
  {
   "cell_type": "markdown",
   "metadata": {},
   "source": [
    "https://substack.com/profile/1592028-finbarr-timbers\n",
    "\n",
    "https://kipp.ly/\n",
    "\n"
   ]
  }
 ],
 "metadata": {
  "language_info": {
   "name": "python"
  },
  "orig_nbformat": 4
 },
 "nbformat": 4,
 "nbformat_minor": 2
}
