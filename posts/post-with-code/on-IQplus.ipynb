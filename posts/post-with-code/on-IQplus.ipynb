{
 "cells": [
  {
   "cell_type": "markdown",
   "metadata": {},
   "source": [
    "dejando de lado el problema de definir la inteligencia y teniendo en cuenta que probablemente la estoy re flasheando:\n",
    "\n",
    "la idea de IQ+ surge de pensar que la inteligencia de cada humano tiene dos componentes: el personal (IQ) y el colectivo (+).\n",
    "El avance del conocimiento colectivo hace a los individuos más inteligentes, por eso el individuo promedio de hoy es más inteligente que el individuo promedio de hace 3000 años. \n",
    "\n",
    "El problema es que el acceso al conocimiento colectivo a través de la historia fue extremadamente costoso, extremadamente ineficiente, o ambos. \n",
    "Extremadamente costoso principalmente por tener que contratar a un experto (pensandolo como teoría de información, un experto es aquel que comprimió todo el conocimiento de un tema y formó un modelo mental sobre eso) para \"adquirir\" su inteligencia a la hora de tomar decisiones o resolver problemas (cosa que solo podían pagar gente de mucho status). \n",
    "Y extremadamente ineficiente por dos cosas: 1. si querías conseguir ese conocimiento colectivo, tenías que ir hasta el lugar donde lo enseñen o donde tengan libros sobre el tema (que potencialmente era en otra parte del mundo), y 2., para realmente utilizar ese conocimiento colectivo, tenés que comprimirlo y eso toma muchos años.\n",
    "El internet resolvió una de las razones por las que acceder al conocimiento colectivo era extremadamente ineficiente: ahora tenemos toda la información en la palma de la mano. Pero tenemos acceso a la información cruda, no a la información comprimida. Por lo que si queremos hacer uso de esa información colectiva, tenemos que o comprimirla nosotros o pagarle a alguien que ya la haya comprimido para que nos asesore.\n",
    "\n",
    "Entonces capaz podemos pensar en 3 estadíos a través de la historia: \n",
    "\n",
    "    Etapa pre-internet: Individuo promedio solo cuenta con su inteligencia, acceso a la inteligencia colectiva es casi siempre prohibitivamente costoso.\n",
    "    Etapa post-internet: Individuo promedio cuenta con su inteligencia, pero puede acceder a la información colectiva (aunque no a la versión comprimida de esta info colectiva).\n",
    "    Etapa post-AI: Individuo promedio cuenta con su inteligencia y puede acceder a todo el conocimiento colectivo, utilizando a AIs (hoy en día, eso significa LLMs haciendo Retrieval Augmented Generation).\n",
    "\n",
    "\n",
    "De esta forma, en la etapa post-AI, el individuo promedio pasa a tener una inteligencia igual o mayor al individuo más inteligente que podría haber existido en la etapa pre-internet (es decir, aquel que tuviera la capacidad de contratar a todos los expertos del mundo para ser sus asistentes). \n",
    "\n",
    "Entonces, en este marco ALI es solo uno de esos asesores que el emperador X de hace 3000 años tenía (aunque más inteligente porque tiene más acceso al conocimiento legal y más capacidad de compresión), pero ahora disponible para todo ciudadano a un costo extremadamente bajo. En ese sentido, democratizar el conocimiento legal es solo una de las aristas de solucionar el problema del acceso al conocimiento colectivo de forma eficiente."
   ]
  },
  {
   "cell_type": "markdown",
   "metadata": {},
   "source": []
  },
  {
   "cell_type": "markdown",
   "metadata": {},
   "source": [
    "CHECK https://dougengelbart.org/content/view/171/ and do a thorough google scholar and arxiv search (what you have now on zotero is the result of a 5 min search)"
   ]
  }
 ],
 "metadata": {
  "language_info": {
   "name": "python"
  },
  "orig_nbformat": 4
 },
 "nbformat": 4,
 "nbformat_minor": 2
}
